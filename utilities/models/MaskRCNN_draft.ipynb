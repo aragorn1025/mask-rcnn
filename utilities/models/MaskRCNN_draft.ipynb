{
 "cells": [
  {
   "cell_type": "code",
   "execution_count": 11,
   "metadata": {},
   "outputs": [],
   "source": [
    "import torch\n",
    "import torchvision\n",
    "from torchvision.models.detection import FasterRCNN\n",
    "from torchvision.models.detection.rpn import AnchorGenerator\n",
    "from torchvision.models.detection.faster_rcnn import FastRCNNPredictor"
   ]
  },
  {
   "cell_type": "code",
   "execution_count": null,
   "metadata": {},
   "outputs": [],
   "source": [
    "class MaskRCNN():\n",
    "    def __init__(slef):\n",
    "        super(MaskRCNN, self).__init__():\n",
    "            self.num_classes  = num_classes\n",
    "            self.hidden_layer = hidden_layer\n",
    "    def function(self.num_classes):\n",
    "        backbone = torchvision.models.mobilenet_v2(pretrained=True).features\n",
    "        backbone.out_channels = 1280\n",
    "        anchor_generator = AnchorGenerator(sizes=((32, 64, 128, 256, 512),), aspect_ratios=((0.5, 1.0, 2.0),))\n",
    "        roi_pooler = torchvision.ops.MultiScaleRoIAlign(featmap_names=[0], output_size=7, sampling_ratio=2)\n",
    "        model = FasterRCNN(backbone,\n",
    "                           num_classes=num_classes,\n",
    "                           rpn_anchor_generator=anchor_generator,\n",
    "                           box_roi_pool=roi_pooler)\n",
    "        return model\n",
    "    \n",
    "    def function2(self.num_classes, self.hidden_layer):\n",
    "        model = torchvision.models.detection.maskrcnn_resnet50_fpn(pretrained=True)\n",
    "        in_features = model.roi_heads.box_predictor.cls_score.in_features\n",
    "        model.roi_heads.box_predictor = FastRCNNPredictor(in_features, num_classes)\n",
    "        in_features_mask = model.roi_heads.mask_predictor.conv5_mask.in_channels\n",
    "        model.roi_heads.mask_predictor = MaskRCNNPredictor(in_features_mask,\n",
    "                                                           hidden_layer = hidden_layer,\n",
    "                                                           num_classes)\n",
    "        return model\n",
    "        \n",
    "    "
   ]
  }
 ],
 "metadata": {
  "kernelspec": {
   "display_name": "Python 3.6 (mask-RCNN)",
   "language": "python",
   "name": "mask-rcnn"
  },
  "language_info": {
   "codemirror_mode": {
    "name": "ipython",
    "version": 3
   },
   "file_extension": ".py",
   "mimetype": "text/x-python",
   "name": "python",
   "nbconvert_exporter": "python",
   "pygments_lexer": "ipython3",
   "version": "3.6.9"
  }
 },
 "nbformat": 4,
 "nbformat_minor": 2
}
